{
 "cells": [
  {
   "cell_type": "code",
   "execution_count": 2,
   "id": "5a321860-3afa-45ba-8511-c0d29a804d74",
   "metadata": {},
   "outputs": [],
   "source": [
    "import splinator"
   ]
  },
  {
   "cell_type": "code",
   "execution_count": 3,
   "id": "4f16e718-992f-4af0-9df4-e6c680d73ecd",
   "metadata": {},
   "outputs": [
    {
     "data": {
      "text/plain": [
       "'0.0.1'"
      ]
     },
     "execution_count": 3,
     "metadata": {},
     "output_type": "execute_result"
    }
   ],
   "source": [
    "splinator.__version__"
   ]
  },
  {
   "cell_type": "code",
   "execution_count": null,
   "id": "a8128aaa-6b96-4109-82dd-1114c975d55b",
   "metadata": {},
   "outputs": [],
   "source": []
  }
 ],
 "metadata": {
  "kernelspec": {
   "display_name": "Python 3 (ipykernel)",
   "language": "python",
   "name": "python3"
  },
  "language_info": {
   "codemirror_mode": {
    "name": "ipython",
    "version": 3
   },
   "file_extension": ".py",
   "mimetype": "text/x-python",
   "name": "python",
   "nbconvert_exporter": "python",
   "pygments_lexer": "ipython3",
   "version": "3.7.13"
  }
 },
 "nbformat": 4,
 "nbformat_minor": 5
}
