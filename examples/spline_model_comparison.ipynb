{
 "cells": [
  {
   "cell_type": "code",
   "execution_count": 23,
   "id": "e78896aa-cc54-43ec-9383-305384cdf0b5",
   "metadata": {},
   "outputs": [
    {
     "name": "stdout",
     "output_type": "stream",
     "text": [
      "The autoreload extension is already loaded. To reload it, use:\n",
      "  %reload_ext autoreload\n"
     ]
    }
   ],
   "source": [
    "%load_ext autoreload\n",
    "%autoreload 2"
   ]
  },
  {
   "cell_type": "code",
   "execution_count": 24,
   "id": "a340130b-0102-44f0-a6b9-0dfbe3662025",
   "metadata": {},
   "outputs": [],
   "source": [
    "from splinator.estimators import LinearSplineLogisticRegression\n",
    "\n",
    "from sklearn.datasets import make_blobs\n",
    "from sklearn.model_selection import train_test_split\n",
    "from sklearn.calibration import CalibratedClassifierCV\n",
    "from sklearn.metrics import brier_score_loss\n",
    "from sklearn.svm import SVC\n",
    "from sklearn.pipeline import make_pipeline\n",
    "from sklearn.preprocessing import StandardScaler\n",
    "from sklearn.neighbors import (NeighborhoodComponentsAnalysis, KNeighborsClassifier)\n",
    "\n",
    "\n",
    "from sklearn.ensemble import GradientBoostingClassifier\n",
    "from sklearn.datasets import make_classification\n",
    "from sklearn.linear_model import LogisticRegression \n",
    "from sklearn.metrics import roc_auc_score\n",
    "from sklearn.isotonic import IsotonicRegression"
   ]
  },
  {
   "cell_type": "code",
   "execution_count": 25,
   "id": "2b82661c-7b25-4222-ba79-11e1f948167e",
   "metadata": {},
   "outputs": [],
   "source": [
    "from splinator.monotonic_spline import _get_design_matrix\n",
    "from splinator.estimators import LinearSplineLogisticRegression"
   ]
  },
  {
   "cell_type": "code",
   "execution_count": 26,
   "id": "a034bd3d-3a2a-4dd5-a9c0-f95c761d7630",
   "metadata": {},
   "outputs": [],
   "source": [
    "from sklearn.datasets import make_classification"
   ]
  },
  {
   "cell_type": "code",
   "execution_count": 27,
   "id": "57b144f0-73c1-4c54-8e02-5468a7a294dc",
   "metadata": {},
   "outputs": [],
   "source": [
    "X, y = make_classification(n_samples=50000, n_features=10, n_informative=2, n_redundant=8, flip_y=0.15)\n",
    "\n",
    "# split train, test for calibration\n",
    "X_train, X_test, y_train, y_test = train_test_split(\n",
    "    X, y, test_size=0.1, random_state=42\n",
    ")\n",
    "\n",
    "X_train, X_dev, y_train, y_dev = train_test_split(\n",
    "    X_train, y_train, test_size=0.1, random_state=42\n",
    ")"
   ]
  },
  {
   "cell_type": "code",
   "execution_count": 28,
   "id": "b552efac-8fbd-45c5-ad13-86e4d4c618d4",
   "metadata": {},
   "outputs": [],
   "source": [
    "clf = GradientBoostingClassifier()\n",
    "\n",
    "clf.fit(X_train, y_train)\n",
    "\n",
    "clf_pred_dev = clf.predict_proba(X_dev)[:,1]\n",
    "clf_pred_test = clf.predict_proba(X_test)[:,1]"
   ]
  },
  {
   "cell_type": "code",
   "execution_count": 29,
   "id": "8b8c065e-8890-4e58-a4cf-4b9c204e4a63",
   "metadata": {},
   "outputs": [
    {
     "data": {
      "text/plain": [
       "0.8958574486358871"
      ]
     },
     "execution_count": 29,
     "metadata": {},
     "output_type": "execute_result"
    }
   ],
   "source": [
    "roc_auc_score(y_score=clf_pred_dev, y_true=y_dev)"
   ]
  },
  {
   "cell_type": "code",
   "execution_count": 36,
   "id": "983f189a-a9ba-4348-8bb9-193db84e3e44",
   "metadata": {},
   "outputs": [
    {
     "name": "stdout",
     "output_type": "stream",
     "text": [
      "Optimization terminated successfully    (Exit mode 0)\n",
      "            Current function value: 811.3527861616368\n",
      "            Iterations: 44\n",
      "            Function evaluations: 56\n",
      "            Gradient evaluations: 44\n",
      "Optimization terminated successfully    (Exit mode 0)\n",
      "            Current function value: 1778.2245280845434\n",
      "            Iterations: 41\n",
      "            Function evaluations: 48\n",
      "            Gradient evaluations: 41\n"
     ]
    }
   ],
   "source": [
    "lslr = LinearSplineLogisticRegression(\n",
    "        n_knots=20, \n",
    "        monotonicity=\"none\", \n",
    "        minimizer_options={'disp': True}, \n",
    "        method='SLSQP', \n",
    "        two_stage_fitting_initial_size=2000\n",
    "    )\n",
    "lslr.fit( clf_pred_dev.reshape( -1, 1 ), y_dev )\n",
    "lslr_pred = lslr.predict( clf_pred_test.reshape( -1, 1 ))"
   ]
  },
  {
   "cell_type": "code",
   "execution_count": 37,
   "id": "e623a437-ea10-47f1-b9ec-e68ad29663f7",
   "metadata": {},
   "outputs": [],
   "source": [
    "from pygam import GAM, s, te\n",
    "\n",
    "gam_model = GAM(s(0, n_splines=20, spline_order=1), distribution='binomial', link='logit', fit_intercept=True)\n",
    "\n",
    "gam_model.fit( clf_pred_dev.reshape( -1, 1 ), y_dev )\n",
    "gam_model_pred = gam_model.predict( clf_pred_test.reshape( -1, 1 ))"
   ]
  },
  {
   "cell_type": "code",
   "execution_count": 38,
   "id": "7647e9cc-3f8d-4369-be53-1f4c0699ff56",
   "metadata": {},
   "outputs": [],
   "source": [
    "import pandas as pd\n",
    "%matplotlib inline\n",
    "\n",
    "from matplotlib import pyplot as plt"
   ]
  },
  {
   "cell_type": "code",
   "execution_count": 39,
   "id": "903fd313-8c25-435e-b3ce-9a2c7c4f07e0",
   "metadata": {},
   "outputs": [],
   "source": [
    "df = pd.DataFrame({\n",
    "    'x': clf_pred_test,\n",
    "    'y': y_test,\n",
    "    'lslr_pred': lslr_pred,\n",
    "    'pygam_pred': gam_model_pred,\n",
    "})\n",
    "\n",
    "def plot(df):\n",
    "    sub_df = df.sample(500).sort_values(['x'])\n",
    "    # plt.scatter(to_plot['x'], to_plot['y'], color='red')\n",
    "    \n",
    "    plt.plot(sub_df['x'], sub_df['lslr_pred'], color='red')\n",
    "    plt.plot(sub_df['x'], sub_df['pygam_pred'], color='blue')"
   ]
  },
  {
   "cell_type": "code",
   "execution_count": 40,
   "id": "b6a1f150-7a08-49e7-aa1e-d70ea4241c4e",
   "metadata": {},
   "outputs": [
    {
     "data": {
      "image/png": "[encoded data removed]",
      "text/plain": [
       "<Figure size 640x480 with 1 Axes>"
      ]
     },
     "metadata": {},
     "output_type": "display_data"
    }
   ],
   "source": [
    "plot(df)"
   ]
  },
  {
   "cell_type": "code",
   "execution_count": null,
   "id": "b261a896-7445-4b63-81e5-6cd6594da4e6",
   "metadata": {},
   "outputs": [],
   "source": []
  },
  {
   "cell_type": "code",
   "execution_count": null,
   "id": "3b67e634-c3ab-4bf9-a959-4a6cbdfed88e",
   "metadata": {},
   "outputs": [],
   "source": []
  },
  {
   "cell_type": "code",
   "execution_count": null,
   "id": "8f596414-3296-4b78-8cbb-778a12dd0858",
   "metadata": {},
   "outputs": [],
   "source": []
  },
  {
   "cell_type": "code",
   "execution_count": null,
   "id": "108c6a69-0735-476c-af67-df945699a76d",
   "metadata": {},
   "outputs": [],
   "source": []
  }
 ],
 "metadata": {
  "kernelspec": {
   "display_name": "Python 3 (ipykernel)",
   "language": "python",
   "name": "python3"
  },
  "language_info": {
   "codemirror_mode": {
    "name": "ipython",
    "version": 3
   },
   "file_extension": ".py",
   "mimetype": "text/x-python",
   "name": "python",
   "nbconvert_exporter": "python",
   "pygments_lexer": "ipython3",
   "version": "3.7.13"
  }
 },
 "nbformat": 4,
 "nbformat_minor": 5
}
