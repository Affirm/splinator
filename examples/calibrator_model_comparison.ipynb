{
 "cells": [
  {
   "cell_type": "code",
   "execution_count": 1,
   "id": "4b6da6e8-139d-49e0-b8f3-f2ea451b8eb0",
   "metadata": {},
   "outputs": [],
   "source": [
    "%load_ext autoreload\n",
    "%autoreload 2"
   ]
  },
  {
   "cell_type": "code",
   "execution_count": 2,
   "id": "fc8b8c20-e0ad-4652-8040-633f033c96d2",
   "metadata": {},
   "outputs": [],
   "source": [
    "import numpy as np\n",
    "import pandas as pd\n",
    "\n",
    "import warnings\n",
    "warnings.filterwarnings('ignore', '.*sample_weight.*', )"
   ]
  },
  {
   "cell_type": "code",
   "execution_count": 3,
   "id": "abd75db3-aa54-40c3-89dc-58e8283b2035",
   "metadata": {},
   "outputs": [],
   "source": [
    "from splinator.estimators import LinearSplineLogisticRegression\n",
    "\n",
    "from sklearn.datasets import make_blobs\n",
    "from sklearn.model_selection import train_test_split\n",
    "from sklearn.calibration import CalibratedClassifierCV\n",
    "from sklearn.metrics import brier_score_loss, log_loss\n",
    "from sklearn.svm import SVC\n",
    "from sklearn.pipeline import make_pipeline\n",
    "from sklearn.preprocessing import StandardScaler\n",
    "from sklearn.neighbors import (NeighborhoodComponentsAnalysis, KNeighborsClassifier)\n",
    "\n",
    "\n",
    "from sklearn.ensemble import GradientBoostingClassifier\n",
    "from sklearn.datasets import make_classification\n",
    "from sklearn.linear_model import LogisticRegression \n",
    "from sklearn.metrics import roc_auc_score\n",
    "from sklearn.isotonic import IsotonicRegression"
   ]
  },
  {
   "cell_type": "code",
   "execution_count": 4,
   "id": "be3b1b84-d1a6-47a9-bbaa-448a1204e5d2",
   "metadata": {},
   "outputs": [],
   "source": [
    "X, y = make_classification(n_samples=50000, n_features=10, n_informative=2, n_redundant=8, flip_y=0.15)\n",
    "\n",
    "# split train, test for calibration\n",
    "X_train, X_test, y_train, y_test = train_test_split(\n",
    "    X, y, test_size=0.1, random_state=42\n",
    ")\n",
    "\n",
    "X_train, X_dev, y_train, y_dev = train_test_split(\n",
    "    X_train, y_train, test_size=0.1, random_state=42\n",
    ")"
   ]
  },
  {
   "cell_type": "code",
   "execution_count": 5,
   "id": "a4228b71-84c3-4b0c-aa45-566ad6785dba",
   "metadata": {},
   "outputs": [],
   "source": [
    "clf = GradientBoostingClassifier()\n",
    "\n",
    "clf.fit(X_train, y_train)\n",
    "\n",
    "clf_pred_dev = clf.predict_proba(X_dev)[:,1]\n",
    "clf_pred_test = clf.predict_proba(X_test)[:,1]"
   ]
  },
  {
   "cell_type": "code",
   "execution_count": 6,
   "id": "3a7b198b-19b0-4abf-9d7b-191042615630",
   "metadata": {},
   "outputs": [
    {
     "data": {
      "text/plain": [
       "0.9166827998963258"
      ]
     },
     "execution_count": 6,
     "metadata": {},
     "output_type": "execute_result"
    }
   ],
   "source": [
    "roc_auc_score(y_score=clf_pred_dev, y_true=y_dev)"
   ]
  },
  {
   "cell_type": "code",
   "execution_count": 7,
   "id": "c6985f1e-da74-4965-94c0-1ea04208470d",
   "metadata": {},
   "outputs": [],
   "source": [
    "lr = LogisticRegression()                                                       \n",
    "lr.fit( clf_pred_dev.reshape( -1, 1 ), y_dev )\n",
    "lr_calibrated = lr.predict_proba( clf_pred_test.reshape( -1, 1 ))[:,1]"
   ]
  },
  {
   "cell_type": "code",
   "execution_count": 8,
   "id": "e25f6f40-b141-4688-98c6-1d63204ccb9d",
   "metadata": {},
   "outputs": [],
   "source": [
    "ir = IsotonicRegression(increasing=True, y_max=1, y_min=0, out_of_bounds='clip')                                                       \n",
    "ir.fit( clf_pred_dev.reshape( -1, 1 ), y_dev )\n",
    "ir_calibrated = ir.predict( clf_pred_test.reshape( -1, 1 ) )"
   ]
  },
  {
   "cell_type": "code",
   "execution_count": 9,
   "id": "49e50bf6-1998-463e-9946-4f8f27a43a8b",
   "metadata": {},
   "outputs": [
    {
     "name": "stdout",
     "output_type": "stream",
     "text": [
      "Optimization terminated successfully    (Exit mode 0)\n",
      "            Current function value: 669.306668868298\n",
      "            Iterations: 51\n",
      "            Function evaluations: 65\n",
      "            Gradient evaluations: 51\n",
      "Optimization terminated successfully    (Exit mode 0)\n",
      "            Current function value: 1551.5102619866166\n",
      "            Iterations: 46\n",
      "            Function evaluations: 53\n",
      "            Gradient evaluations: 46\n"
     ]
    }
   ],
   "source": [
    "lslr = LinearSplineLogisticRegression(\n",
    "        n_knots=100, \n",
    "        monotonicity=\"increasing\", \n",
    "        minimizer_options={'disp': True}, \n",
    "        method='SLSQP', \n",
    "        two_stage_fitting_initial_size=2000\n",
    "    )\n",
    "lslr.fit( clf_pred_dev.reshape( -1, 1 ), y_dev )\n",
    "lslr_calibrated = lslr.predict( clf_pred_test.reshape( -1, 1 ))"
   ]
  },
  {
   "cell_type": "code",
   "execution_count": 11,
   "id": "a7f68389-ca6f-4705-8dda-1ca65563a647",
   "metadata": {},
   "outputs": [
    {
     "ename": "ModuleNotFoundError",
     "evalue": "No module named 'matplotlib'",
     "output_type": "error",
     "traceback": [
      "\u001b[0;31m---------------------------------------------------------------------------\u001b[0m",
      "\u001b[0;31mModuleNotFoundError\u001b[0m                       Traceback (most recent call last)",
      "Cell \u001b[0;32mIn[11], line 1\u001b[0m\n\u001b[0;32m----> 1\u001b[0m \u001b[38;5;28;01mimport\u001b[39;00m \u001b[38;5;21;01mmatplotlib\u001b[39;00m\u001b[38;5;21;01m.\u001b[39;00m\u001b[38;5;21;01mpyplot\u001b[39;00m \u001b[38;5;28;01mas\u001b[39;00m \u001b[38;5;21;01mplt\u001b[39;00m\n\u001b[1;32m      3\u001b[0m \u001b[38;5;28;01mfrom\u001b[39;00m \u001b[38;5;21;01msklearn\u001b[39;00m \u001b[38;5;28;01mimport\u001b[39;00m datasets\n\u001b[1;32m      4\u001b[0m \u001b[38;5;28;01mfrom\u001b[39;00m \u001b[38;5;21;01msklearn\u001b[39;00m\u001b[38;5;21;01m.\u001b[39;00m\u001b[38;5;21;01mnaive_bayes\u001b[39;00m \u001b[38;5;28;01mimport\u001b[39;00m GaussianNB\n",
      "\u001b[0;31mModuleNotFoundError\u001b[0m: No module named 'matplotlib'"
     ]
    }
   ],
   "source": [
    "import matplotlib.pyplot as plt\n",
    "\n",
    "from sklearn import datasets\n",
    "from sklearn.naive_bayes import GaussianNB\n",
    "from sklearn.svm import LinearSVC\n",
    "from sklearn.linear_model import LogisticRegression\n",
    "from sklearn.metrics import (brier_score_loss, precision_score, recall_score,\n",
    "                             f1_score)\n",
    "from sklearn.calibration import CalibratedClassifierCV, calibration_curve\n",
    "from sklearn.model_selection import train_test_split\n",
    "\n",
    "\n",
    "def plot_calibration_curve():\n",
    "    \"\"\"Plot calibration curve for est w/o and with calibration. \"\"\"\n",
    "    \n",
    "    fig = plt.figure(1, figsize=(10, 10))\n",
    "    ax1 = plt.subplot2grid((3, 1), (0, 0), rowspan=2)\n",
    "    ax2 = plt.subplot2grid((3, 1), (2, 0))\n",
    "\n",
    "    ax1.plot([0, 1], [0, 1], \"k:\", label=\"Perfectly calibrated\")\n",
    "    for prob_pos, name in [(lr_calibrated, 'Sigmoid'),\n",
    "                      (ir_calibrated, 'Isotonic'),\n",
    "                      (lslr_calibrated, 'LSLR')]:\n",
    "\n",
    "        clf_score = log_loss(y_test, prob_pos)\n",
    " \n",
    "\n",
    "        fraction_of_positives, mean_predicted_value = \\\n",
    "            calibration_curve(y_test, prob_pos, n_bins=10)\n",
    "\n",
    "        ax1.plot(mean_predicted_value, fraction_of_positives, \"s-\",\n",
    "                 label=\"%s (%1.3f)\" % (name + \"_log_loss\", clf_score))\n",
    "\n",
    "        ax2.hist(prob_pos, range=(0, 1), bins=10, label=name,\n",
    "                 histtype=\"step\", lw=2)\n",
    "\n",
    "    ax1.set_ylabel(\"Fraction of positives\")\n",
    "    ax1.set_ylim([-0.05, 1.05])\n",
    "    ax1.legend(loc=\"lower right\")\n",
    "    ax1.set_title('Calibration plots  (reliability curve)')\n",
    "\n",
    "    ax2.set_xlabel(\"Mean predicted value\")\n",
    "    ax2.set_ylabel(\"Count\")\n",
    "    ax2.legend(loc=\"upper center\", ncol=2)\n",
    "\n",
    "    plt.tight_layout()\n",
    "\n",
    "# Plot calibration curve for Gaussian Naive Bayes\n",
    "plot_calibration_curve()\n",
    "\n",
    "plt.show()"
   ]
  },
  {
   "cell_type": "code",
   "execution_count": null,
   "id": "65a5205d-6de9-4bff-adc1-6276b83a8d1e",
   "metadata": {},
   "outputs": [],
   "source": [
    "LinearSplineLogisticRegression(**lslr.get_params())"
   ]
  },
  {
   "cell_type": "code",
   "execution_count": null,
   "id": "ec9148e2-5a54-4958-8e95-ebf4627b3b03",
   "metadata": {},
   "outputs": [],
   "source": []
  }
 ],
 "metadata": {
  "kernelspec": {
   "display_name": "Python 3 (ipykernel)",
   "language": "python",
   "name": "python3"
  },
  "language_info": {
   "codemirror_mode": {
    "name": "ipython",
    "version": 3
   },
   "file_extension": ".py",
   "mimetype": "text/x-python",
   "name": "python",
   "nbconvert_exporter": "python",
   "pygments_lexer": "ipython3",
   "version": "3.8.13"
  }
 },
 "nbformat": 4,
 "nbformat_minor": 5
}
