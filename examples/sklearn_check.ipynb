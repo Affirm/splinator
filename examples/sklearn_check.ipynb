{
 "cells": [
  {
   "cell_type": "code",
   "execution_count": 1,
   "id": "20ca388a-43b4-47ed-9950-f62cbee2a383",
   "metadata": {},
   "outputs": [],
   "source": [
    "%load_ext autoreload\n",
    "%autoreload 2"
   ]
  },
  {
   "cell_type": "code",
   "execution_count": 2,
   "id": "0bbddf7d-6985-49ae-ae41-eec59417776a",
   "metadata": {},
   "outputs": [],
   "source": [
    "import numpy as np\n",
    "import pandas as pd\n",
    "\n",
    "import warnings\n",
    "warnings.filterwarnings('ignore', '.*sample_weight.*', )"
   ]
  },
  {
   "cell_type": "code",
   "execution_count": 3,
   "id": "7452da67-8f7d-4a58-9adf-d26a46b7025c",
   "metadata": {},
   "outputs": [],
   "source": [
    "from splinator.estimators import LinearSplineLogisticRegression\n",
    "from sklearn.utils.estimator_checks import check_estimator"
   ]
  },
  {
   "cell_type": "code",
   "execution_count": 18,
   "id": "e2753018-2236-4ade-ac94-866e7d9b8b19",
   "metadata": {},
   "outputs": [
    {
     "name": "stdout",
     "output_type": "stream",
     "text": [
      "check_no_attributes_set_in_init ✅\n",
      "check_estimators_dtypes ✅\n",
      "check_fit_score_takes_y ✅\n",
      "check_sample_weights_pandas_series ✅\n",
      "check_sample_weights_not_an_array ✅\n",
      "check_sample_weights_list ✅\n",
      "check_sample_weights_shape ✅\n",
      "check_sample_weights_not_overwritten ✅\n",
      "check_sample_weights_invariance ✅\n",
      "check_sample_weights_invariance ✅\n",
      "check_estimators_fit_returns_self ✅\n",
      "check_estimators_fit_returns_self ✅\n",
      "check_complex_data ✅\n",
      "check_dtype_object ✅\n",
      "check_estimators_empty_data_messages ✅\n",
      "check_pipeline_consistency ✅\n",
      "check_estimators_nan_inf ✅\n",
      "check_estimators_overwrite_params ✅\n",
      "check_estimator_sparse_data ✅\n",
      "check_estimators_pickle ✅\n",
      "check_estimator_get_tags_default_keys ✅\n",
      "check_regressors_train ✅\n",
      "check_regressors_train ✅\n",
      "check_regressors_train ✅\n",
      "check_regressor_data_not_an_array ✅\n",
      "check_estimators_partial_fit_n_features ✅\n",
      "check_regressors_no_decision_function ✅\n",
      "check_supervised_y_2d ✅\n",
      "check_supervised_y_no_nan ✅\n",
      "check_regressors_int ✅\n",
      "check_estimators_unfitted ✅\n",
      "check_non_transformer_estimators_n_iter ✅\n",
      "check_transformer_data_not_an_array ✅\n",
      "check_transformer_general ✅\n",
      "check_transformer_preserve_dtypes ✅\n",
      "check_transformer_general ✅\n",
      "check_transformers_unfitted ✅\n",
      "check_transformer_n_iter ✅\n",
      "check_parameters_default_constructible ✅\n",
      "check_methods_sample_order_invariance ✅\n",
      "check_methods_subset_invariance ✅\n",
      "check_fit2d_1sample ✅\n",
      "check_fit2d_1feature ✅\n",
      "check_get_params_invariance ✅\n",
      "check_set_params ✅\n",
      "check_dict_unchanged ✅\n",
      "check_dont_overwrite_parameters ✅\n",
      "check_fit_idempotent ✅\n",
      "check_fit_check_is_fitted ✅\n",
      "check_n_features_in ✅\n",
      "check_fit1d ✅\n",
      "check_fit2d_predict1d ✅\n",
      "check_requires_y_none ✅\n"
     ]
    }
   ],
   "source": [
    "for i in check_estimator(LinearSplineLogisticRegression(), generate_only=True):\n",
    "    ob, f = i\n",
    "    test_name = f.func.__name__\n",
    "    print(test_name, '✅' if f(ob) is None else '😡')"
   ]
  },
  {
   "cell_type": "code",
   "execution_count": null,
   "id": "615da025-d87d-4e65-ae81-79014d2819b0",
   "metadata": {},
   "outputs": [],
   "source": []
  }
 ],
 "metadata": {
  "kernelspec": {
   "display_name": "Python 3 (ipykernel)",
   "language": "python",
   "name": "python3"
  },
  "language_info": {
   "codemirror_mode": {
    "name": "ipython",
    "version": 3
   },
   "file_extension": ".py",
   "mimetype": "text/x-python",
   "name": "python",
   "nbconvert_exporter": "python",
   "pygments_lexer": "ipython3",
   "version": "3.7.13"
  }
 },
 "nbformat": 4,
 "nbformat_minor": 5
}
