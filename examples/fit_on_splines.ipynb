{
 "cells": [
  {
   "cell_type": "code",
   "execution_count": 266,
   "id": "600d1365-35df-426a-9d92-8115764bc9f1",
   "metadata": {},
   "outputs": [
    {
     "name": "stdout",
     "output_type": "stream",
     "text": [
      "The autoreload extension is already loaded. To reload it, use:\n",
      "  %reload_ext autoreload\n"
     ]
    }
   ],
   "source": [
    "%load_ext autoreload\n",
    "%autoreload 2"
   ]
  },
  {
   "cell_type": "code",
   "execution_count": 267,
   "id": "8ecac8b4-0177-44cf-8982-cf28f5f7012a",
   "metadata": {},
   "outputs": [],
   "source": [
    "import numpy as np"
   ]
  },
  {
   "cell_type": "code",
   "execution_count": 371,
   "id": "921509ad-ff9c-469c-9637-2d38f9ed0eea",
   "metadata": {},
   "outputs": [],
   "source": [
    "knots_x_values = np.concatenate([np.array([-10]), np.linspace(-5, 5, 20), np.array([10])])\n",
    "knots_y_values = np.sort(np.concatenate([np.array([-5]), np.random.uniform(-5, 5, 20), np.array([5])]))"
   ]
  },
  {
   "cell_type": "code",
   "execution_count": 372,
   "id": "eb1cfa82-90e0-4c55-ac77-51fe3cc04138",
   "metadata": {},
   "outputs": [
    {
     "data": {
      "text/plain": [
       "array([-10.        ,  -5.        ,  -4.47368421,  -3.94736842,\n",
       "        -3.42105263,  -2.89473684,  -2.36842105,  -1.84210526,\n",
       "        -1.31578947,  -0.78947368,  -0.26315789,   0.26315789,\n",
       "         0.78947368,   1.31578947,   1.84210526,   2.36842105,\n",
       "         2.89473684,   3.42105263,   3.94736842,   4.47368421,\n",
       "         5.        ,  10.        ])"
      ]
     },
     "execution_count": 372,
     "metadata": {},
     "output_type": "execute_result"
    }
   ],
   "source": [
    "knots_x_values"
   ]
  },
  {
   "cell_type": "code",
   "execution_count": 373,
   "id": "89c6fd74-de21-4fdf-81d6-7640cd7e3a67",
   "metadata": {},
   "outputs": [],
   "source": [
    "from scipy.special import expit, logit\n",
    "from scipy.interpolate import interp1d\n",
    "from sklearn.linear_model import LogisticRegression "
   ]
  },
  {
   "cell_type": "code",
   "execution_count": 374,
   "id": "3ca6918b-4b9d-404d-9b3e-fbf1265e5749",
   "metadata": {},
   "outputs": [],
   "source": [
    "intp = interp1d(knots_x_values, knots_y_values)"
   ]
  },
  {
   "cell_type": "code",
   "execution_count": 375,
   "id": "d7c648a9-73be-4120-88be-c0037d894fe6",
   "metadata": {},
   "outputs": [],
   "source": [
    "x_points = np.random.uniform(knots_x_values.min(), knots_x_values.max(), 1000000)"
   ]
  },
  {
   "cell_type": "code",
   "execution_count": 376,
   "id": "8db25178-95fd-45d6-9fb0-6d33493e3141",
   "metadata": {},
   "outputs": [],
   "source": [
    "y_points = intp(x_points)"
   ]
  },
  {
   "cell_type": "code",
   "execution_count": 377,
   "id": "822f38f0-db83-46b8-ad28-6a700e5e38f2",
   "metadata": {},
   "outputs": [],
   "source": [
    "# y_points"
   ]
  },
  {
   "cell_type": "code",
   "execution_count": 378,
   "id": "0579932b-7235-4fd0-a731-5599cf6d010a",
   "metadata": {},
   "outputs": [],
   "source": [
    "p_points = expit(y_points)"
   ]
  },
  {
   "cell_type": "code",
   "execution_count": 379,
   "id": "aa82a98a-a3a7-455a-9786-2d20dcffd1db",
   "metadata": {},
   "outputs": [],
   "source": [
    "label_points = np.random.binomial(n=1, p=p_points)"
   ]
  },
  {
   "cell_type": "code",
   "execution_count": 380,
   "id": "b6625212-e6da-49f1-a71d-a898eda6e79a",
   "metadata": {},
   "outputs": [],
   "source": [
    "from splinator.estimators import LinearSplineLogisticRegression"
   ]
  },
  {
   "cell_type": "code",
   "execution_count": 381,
   "id": "3d201cd5-5c76-4428-b7b2-f9810c437933",
   "metadata": {},
   "outputs": [
    {
     "data": {
      "text/plain": [
       "LogisticRegression()"
      ]
     },
     "execution_count": 381,
     "metadata": {},
     "output_type": "execute_result"
    }
   ],
   "source": [
    "lr = LogisticRegression()                                                       \n",
    "lr.fit( x_points.reshape( -1, 1 ), label_points )"
   ]
  },
  {
   "cell_type": "code",
   "execution_count": 382,
   "id": "86e577fa-1bd2-442c-a680-52d24285ab7c",
   "metadata": {},
   "outputs": [
    {
     "data": {
      "text/plain": [
       "array([-10.        ,  -5.        ,  -4.47368421,  -3.94736842,\n",
       "        -3.42105263,  -2.89473684,  -2.36842105,  -1.84210526,\n",
       "        -1.31578947,  -0.78947368,  -0.26315789,   0.26315789,\n",
       "         0.78947368,   1.31578947,   1.84210526,   2.36842105,\n",
       "         2.89473684,   3.42105263,   3.94736842,   4.47368421,\n",
       "         5.        ,  10.        ])"
      ]
     },
     "execution_count": 382,
     "metadata": {},
     "output_type": "execute_result"
    }
   ],
   "source": [
    "knots_x_values"
   ]
  },
  {
   "cell_type": "code",
   "execution_count": 383,
   "id": "d37768db-7292-4cdb-a163-0cff04d4e6dc",
   "metadata": {},
   "outputs": [
    {
     "name": "stdout",
     "output_type": "stream",
     "text": [
      "Optimization terminated successfully    (Exit mode 0)\n",
      "            Current function value: 253.44986252407554\n",
      "            Iterations: 51\n",
      "            Function evaluations: 77\n",
      "            Gradient evaluations: 51\n",
      "Optimization terminated successfully    (Exit mode 0)\n",
      "            Current function value: 132880.52862751452\n",
      "            Iterations: 53\n",
      "            Function evaluations: 178\n",
      "            Gradient evaluations: 49\n"
     ]
    },
    {
     "data": {
      "text/plain": [
       "LinearSplineLogisticRegression(C=10,\n",
       "                               knots=array([-10.        ,  -8.94736842,  -7.89473684,  -6.84210526,\n",
       "        -5.78947368,  -4.73684211,  -3.68421053,  -2.63157895,\n",
       "        -1.57894737,  -0.52631579,   0.52631579,   1.57894737,\n",
       "         2.63157895,   3.68421053,   4.73684211,   5.78947368,\n",
       "         6.84210526,   7.89473684,   8.94736842,  10.        ]),\n",
       "                               minimizer_options={'disp': True},\n",
       "                               monotonicity='increasing', n_knots=None,\n",
       "                               two_stage_fitting_initial_size=2000)"
      ]
     },
     "execution_count": 383,
     "metadata": {},
     "output_type": "execute_result"
    }
   ],
   "source": [
    "lslr = LinearSplineLogisticRegression(\n",
    "        n_knots=None,\n",
    "        knots=np.linspace(-10, 10, 20),\n",
    "        monotonicity=\"increasing\", \n",
    "        minimizer_options={'disp': True}, \n",
    "        method='SLSQP', \n",
    "        C=10,\n",
    "        two_stage_fitting_initial_size=2000\n",
    "    )\n",
    "lslr.fit( x_points.reshape( -1, 1 ), label_points )"
   ]
  },
  {
   "cell_type": "code",
   "execution_count": 384,
   "id": "00e3ee17-648c-4997-95f7-3912f17b83b4",
   "metadata": {},
   "outputs": [],
   "source": [
    "%matplotlib inline\n",
    "\n",
    "from matplotlib import pyplot as plt"
   ]
  },
  {
   "cell_type": "code",
   "execution_count": 385,
   "id": "067c6ec4-fbb1-4b1a-9b04-96360f48bac6",
   "metadata": {},
   "outputs": [],
   "source": [
    "import pandas as pd"
   ]
  },
  {
   "cell_type": "code",
   "execution_count": 386,
   "id": "f2bb2baf-0767-459a-b06a-2640aa07486e",
   "metadata": {},
   "outputs": [],
   "source": [
    "df = pd.DataFrame({\n",
    "        'x':  x_points,\n",
    "        'lslr_y': logit(lslr.predict(x_points.reshape( -1, 1 ))),\n",
    "        'y_points': y_points,\n",
    "        'lr_y': logit(lr.predict_proba(x_points.reshape( -1, 1 ))[:, 1]),\n",
    "    })"
   ]
  },
  {
   "cell_type": "code",
   "execution_count": 387,
   "id": "c83860cf-7377-4d4c-8dc4-a96265c7addf",
   "metadata": {},
   "outputs": [
    {
     "data": {
      "text/plain": [
       "0.007714387202085897"
      ]
     },
     "execution_count": 387,
     "metadata": {},
     "output_type": "execute_result"
    }
   ],
   "source": [
    "lslr.predict(x_points.reshape( -1, 1 )).min()"
   ]
  },
  {
   "cell_type": "code",
   "execution_count": 388,
   "id": "2e6678c1-992f-4701-9ba9-a852d835ee73",
   "metadata": {},
   "outputs": [],
   "source": [
    "df.sort_values('x', inplace=True)"
   ]
  },
  {
   "cell_type": "code",
   "execution_count": 389,
   "id": "70f8241b-964d-4b26-bb51-eb67b800d2e7",
   "metadata": {},
   "outputs": [
    {
     "data": {
      "text/plain": [
       "[<matplotlib.lines.Line2D at 0x154a4e3d0>]"
      ]
     },
     "execution_count": 389,
     "metadata": {},
     "output_type": "execute_result"
    },
    {
     "data": {
      "image/png": "[encoded data removed]",
      "text/plain": [
       "<Figure size 640x480 with 1 Axes>"
      ]
     },
     "metadata": {},
     "output_type": "display_data"
    }
   ],
   "source": [
    "plt.plot(df['x'], df['lslr_y'], color='red')\n",
    "plt.scatter(df['x'], df['y_points'], color='orange')\n",
    "plt.plot(df['x'], df['lr_y'], color='blue')"
   ]
  },
  {
   "cell_type": "code",
   "execution_count": null,
   "id": "92b040de-9a04-41dc-a0ad-d7252464d42c",
   "metadata": {},
   "outputs": [],
   "source": []
  }
 ],
 "metadata": {
  "kernelspec": {
   "display_name": "Python 3 (ipykernel)",
   "language": "python",
   "name": "python3"
  },
  "language_info": {
   "codemirror_mode": {
    "name": "ipython",
    "version": 3
   },
   "file_extension": ".py",
   "mimetype": "text/x-python",
   "name": "python",
   "nbconvert_exporter": "python",
   "pygments_lexer": "ipython3",
   "version": "3.7.13"
  }
 },
 "nbformat": 4,
 "nbformat_minor": 5
}
