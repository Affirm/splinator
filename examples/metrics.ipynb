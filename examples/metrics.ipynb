{
 "cells": [
  {
   "cell_type": "code",
   "execution_count": 15,
   "id": "99ee28b2",
   "metadata": {},
   "outputs": [],
   "source": [
    "from splinator.metrics import spiegelhalters_z_statistic\n",
    "from sklearn.metrics import brier_score_loss\n",
    "import numpy as np\n",
    "import pandas as pd"
   ]
  },
  {
   "cell_type": "code",
   "execution_count": 8,
   "id": "08d1ff56",
   "metadata": {},
   "outputs": [],
   "source": [
    "labels = np.array([1, 0])\n",
    "scores_a = np.array([0.2, 0.2])\n",
    "scores_b = np.array([0.4, 0.5])\n",
    "\n",
    "szs_a = spiegelhalters_z_statistic(labels, scores_a)\n",
    "szs_b = spiegelhalters_z_statistic(labels, scores_b)"
   ]
  },
  {
   "cell_type": "code",
   "execution_count": 13,
   "id": "f753cec3",
   "metadata": {},
   "outputs": [],
   "source": [
    "values = [\n",
    "    {'scores': scores_a,\n",
    "     'spiegelhalters_z_statistic': szs_a, \n",
    "    'brier_score': brier_score_loss(labels, scores_a)}, \n",
    "    {'scores': scores_b,\n",
    "     'spiegelhalters_z_statistic': szs_b, \n",
    "     'brier_score': brier_score_loss(labels, scores_b)}, \n",
    "]"
   ]
  },
  {
   "cell_type": "code",
   "execution_count": 18,
   "id": "e7b680bf",
   "metadata": {},
   "outputs": [
    {
     "data": {
      "text/html": [
       "<div>\n",
       "<style scoped>\n",
       "    .dataframe tbody tr th:only-of-type {\n",
       "        vertical-align: middle;\n",
       "    }\n",
       "\n",
       "    .dataframe tbody tr th {\n",
       "        vertical-align: top;\n",
       "    }\n",
       "\n",
       "    .dataframe thead th {\n",
       "        text-align: right;\n",
       "    }\n",
       "</style>\n",
       "<table border=\"1\" class=\"dataframe\">\n",
       "  <thead>\n",
       "    <tr style=\"text-align: right;\">\n",
       "      <th></th>\n",
       "      <th>scores</th>\n",
       "      <th>spiegelhalters_z_statistic</th>\n",
       "      <th>brier_score</th>\n",
       "    </tr>\n",
       "  </thead>\n",
       "  <tbody>\n",
       "    <tr>\n",
       "      <th>0</th>\n",
       "      <td>[0.2, 0.2]</td>\n",
       "      <td>1.060660</td>\n",
       "      <td>0.340</td>\n",
       "    </tr>\n",
       "    <tr>\n",
       "      <th>1</th>\n",
       "      <td>[0.4, 0.5]</td>\n",
       "      <td>1.224745</td>\n",
       "      <td>0.305</td>\n",
       "    </tr>\n",
       "  </tbody>\n",
       "</table>\n",
       "</div>"
      ],
      "text/plain": [
       "       scores  spiegelhalters_z_statistic  brier_score\n",
       "0  [0.2, 0.2]                    1.060660        0.340\n",
       "1  [0.4, 0.5]                    1.224745        0.305"
      ]
     },
     "execution_count": 18,
     "metadata": {},
     "output_type": "execute_result"
    }
   ],
   "source": [
    "pd.DataFrame(values)"
   ]
  },
  {
   "cell_type": "code",
   "execution_count": null,
   "id": "9e2ee732",
   "metadata": {},
   "outputs": [],
   "source": []
  }
 ],
 "metadata": {
  "kernelspec": {
   "display_name": "Python 3 (ipykernel)",
   "language": "python",
   "name": "python3"
  },
  "language_info": {
   "codemirror_mode": {
    "name": "ipython",
    "version": 3
   },
   "file_extension": ".py",
   "mimetype": "text/x-python",
   "name": "python",
   "nbconvert_exporter": "python",
   "pygments_lexer": "ipython3",
   "version": "3.7.13"
  }
 },
 "nbformat": 4,
 "nbformat_minor": 5
}
